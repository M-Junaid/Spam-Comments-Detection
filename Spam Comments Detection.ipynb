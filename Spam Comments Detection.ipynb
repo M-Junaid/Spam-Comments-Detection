{
 "cells": [
  {
   "cell_type": "code",
   "execution_count": 1,
   "id": "ea2926af-18ba-407b-b887-d85cc35fff37",
   "metadata": {},
   "outputs": [
    {
     "name": "stdout",
     "output_type": "stream",
     "text": [
      "                                COMMENT_ID              AUTHOR  \\\n",
      "127    z123gnabnwbqtr1e022jejij0zzzez2os04       Luat ha hpuoc   \n",
      "55       z13hxl3yoqmlvdlnu23atlqgsoyevlsse               Artsi   \n",
      "266    z12mfnjahrvcgjh4004cdf3buuzshjsrzhw  Kincaid Liebenberg   \n",
      "146  z12bv5zxvpryjjspn04cdfwz5lrtzjhooqw0k       Peter Johnson   \n",
      "215    z124g1oy2wfitb3tw23bw1po2ozhurojq04       LaunchPad Mad   \n",
      "\n",
      "                    DATE                                            CONTENT  \\\n",
      "127  2014-11-05T15:38:10  so crazy, over 2 billion views, not US, not Uk...   \n",
      "55   2014-01-20T18:52:12  Pls follow this channel!! http://www.twitch.tv...   \n",
      "266  2014-11-08T05:36:38                                 PSY is a good guy﻿   \n",
      "146  2014-11-06T01:44:12            Get free gift cards and pay pal money!﻿   \n",
      "215  2014-11-07T18:11:56  Hello! I'm kind of new to Youtube, And soon i'...   \n",
      "\n",
      "     CLASS  \n",
      "127      0  \n",
      "55       1  \n",
      "266      0  \n",
      "146      1  \n",
      "215      1  \n"
     ]
    }
   ],
   "source": [
    "import pandas as pd\n",
    "import numpy as np\n",
    "from sklearn.feature_extraction.text import CountVectorizer\n",
    "from sklearn.model_selection import train_test_split\n",
    "from sklearn.naive_bayes import BernoulliNB\n",
    "\n",
    "data = pd.read_csv(\"Youtube01-Psy.csv\")\n",
    "print(data.sample(5))"
   ]
  },
  {
   "cell_type": "code",
   "execution_count": 2,
   "id": "470a85fc-8a1c-4c92-8d54-fa6f1c1a9f3f",
   "metadata": {},
   "outputs": [
    {
     "name": "stdout",
     "output_type": "stream",
     "text": [
      "                                               CONTENT  CLASS\n",
      "24                                CHECK OUT MY CHANNEL      1\n",
      "70                                  2 Billions in 2014      0\n",
      "105      Sub to my channel visuelgamingzNL I sub back﻿      1\n",
      "180  This is the best, funny and viral video of his...      0\n",
      "153                http://www.twitch.tv/zxlightsoutxz﻿      1\n"
     ]
    }
   ],
   "source": [
    "data = data[[\"CONTENT\", \"CLASS\"]]\n",
    "print(data.sample(5))"
   ]
  },
  {
   "cell_type": "code",
   "execution_count": 3,
   "id": "3308c1ae-ebe0-43d3-97a4-2b810c9da256",
   "metadata": {},
   "outputs": [
    {
     "name": "stdout",
     "output_type": "stream",
     "text": [
      "                                               CONTENT         CLASS\n",
      "340  Please do buy these new Christmas shirts! You ...  Spam Comment\n",
      "170        Subscribe to me and I'll subscribe back!!!﻿  Spam Comment\n",
      "96   I made a gaming channel (Unique right?) :L Ang...  Spam Comment\n",
      "235  On 0:02 u can see the camera man on his glasse...      Not Spam\n",
      "257           Still a very fun music video to watch! ﻿      Not Spam\n"
     ]
    }
   ],
   "source": [
    "data[\"CLASS\"] = data[\"CLASS\"].map({0: \"Not Spam\",\n",
    "                                   1: \"Spam Comment\"})\n",
    "print(data.sample(5))"
   ]
  },
  {
   "cell_type": "code",
   "execution_count": 4,
   "id": "217f7002-452f-4b8d-aa28-68fc1b58c8b0",
   "metadata": {},
   "outputs": [
    {
     "name": "stdout",
     "output_type": "stream",
     "text": [
      "0.9857142857142858\n"
     ]
    }
   ],
   "source": [
    "x = np.array(data[\"CONTENT\"])\n",
    "y = np.array(data[\"CLASS\"])\n",
    "\n",
    "cv = CountVectorizer()\n",
    "x = cv.fit_transform(x)\n",
    "xtrain, xtest, ytrain, ytest = train_test_split(x, y, \n",
    "                                                test_size=0.2, \n",
    "                                                random_state=42)\n",
    "\n",
    "model = BernoulliNB()\n",
    "model.fit(xtrain, ytrain)\n",
    "print(model.score(xtest, ytest))"
   ]
  },
  {
   "cell_type": "code",
   "execution_count": 5,
   "id": "fc77dc0f-936d-4c42-b766-d8130661a299",
   "metadata": {},
   "outputs": [
    {
     "name": "stdout",
     "output_type": "stream",
     "text": [
      "['Spam Comment']\n"
     ]
    }
   ],
   "source": [
    "sample = \"Check this out: https://thecleverprogrammer.com/\" \n",
    "data = cv.transform([sample]).toarray()\n",
    "print(model.predict(data))"
   ]
  },
  {
   "cell_type": "code",
   "execution_count": 7,
   "id": "86e85b9d-270d-432d-8785-5609b9a8da59",
   "metadata": {},
   "outputs": [
    {
     "name": "stdout",
     "output_type": "stream",
     "text": [
      "['Not Spam']\n"
     ]
    }
   ],
   "source": [
    "sample = \"Lack of information!\" \n",
    "data = cv.transform([sample]).toarray()\n",
    "print(model.predict(data)) "
   ]
  },
  {
   "cell_type": "code",
   "execution_count": null,
   "id": "963acf11-1336-424c-8c74-076b60850194",
   "metadata": {},
   "outputs": [],
   "source": []
  }
 ],
 "metadata": {
  "kernelspec": {
   "display_name": "Python 3 (ipykernel)",
   "language": "python",
   "name": "python3"
  },
  "language_info": {
   "codemirror_mode": {
    "name": "ipython",
    "version": 3
   },
   "file_extension": ".py",
   "mimetype": "text/x-python",
   "name": "python",
   "nbconvert_exporter": "python",
   "pygments_lexer": "ipython3",
   "version": "3.11.4"
  }
 },
 "nbformat": 4,
 "nbformat_minor": 5
}
